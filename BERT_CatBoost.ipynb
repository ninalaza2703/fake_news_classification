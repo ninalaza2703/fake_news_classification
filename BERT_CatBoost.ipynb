{
 "cells": [
  {
   "cell_type": "code",
   "execution_count": 85,
   "id": "f447e0db-47c7-42bc-9cff-cdf064ea5ebf",
   "metadata": {},
   "outputs": [],
   "source": [
    "import warnings\n",
    "warnings.filterwarnings('ignore')\n"
   ]
  },
  {
   "cell_type": "code",
   "execution_count": 86,
   "id": "a00a422e-29ec-45b7-922e-66240ac2dbd2",
   "metadata": {},
   "outputs": [],
   "source": [
    "import pandas as pd\n",
    "import numpy as np\n",
    "import re\n",
    "import seaborn as sns\n",
    "import matplotlib.pyplot as plt\n",
    "from sklearn.metrics import roc_curve\n",
    "from sklearn.metrics import roc_auc_score\n",
    "from sklearn.feature_extraction.text import TfidfVectorizer\n",
    "from sklearn.feature_extraction.text import CountVectorizer,TfidfTransformer\n",
    "from sklearn.metrics import accuracy_score\n",
    "from sklearn.model_selection import GridSearchCV\n",
    "from sklearn.model_selection import train_test_split\n",
    "from sklearn.metrics import accuracy_score, precision_score, recall_score, f1_score, roc_auc_score, roc_curve, confusion_matrix\n",
    "import matplotlib.pyplot as plt\n",
    "import seaborn as sns\n",
    "import pickle\n",
    "import statsmodels.api as sm \n",
    "from tqdm import tqdm\n",
    "import math\n",
    "from catboost import CatBoostClassifier\n",
    "from sklearn.metrics import accuracy_score, classification_report\n",
    "from transformers import BertTokenizer, BertModel\n",
    "import torch"
   ]
  },
  {
   "cell_type": "code",
   "execution_count": 2,
   "id": "ebcc184e-c96c-4fc8-8cc0-ee40a99468f6",
   "metadata": {},
   "outputs": [
    {
     "name": "stdout",
     "output_type": "stream",
     "text": [
      "Using cuda device\n"
     ]
    }
   ],
   "source": [
    "device = torch.device('cuda' if torch.cuda.is_available() else 'cpu')\n",
    "print(f\"Using {device} device\")"
   ]
  },
  {
   "cell_type": "code",
   "execution_count": 3,
   "id": "67aab1dc-11a9-411f-b5d6-c169885e2608",
   "metadata": {},
   "outputs": [],
   "source": [
    "train_data = pd.read_csv('data/train_bert_data.csv', index_col=0)\n",
    "test_data = pd.read_csv('data/test_bert_data.csv', index_col=0)"
   ]
  },
  {
   "cell_type": "code",
   "execution_count": 4,
   "id": "f2325f42-7b2d-4bcd-827a-52233e573f08",
   "metadata": {},
   "outputs": [],
   "source": [
    "train_data['all_text'] = train_data['title'] + train_data['text']\n",
    "test_data['all_text'] = test_data['title'] + test_data['text']"
   ]
  },
  {
   "cell_type": "code",
   "execution_count": 5,
   "id": "1edd7c87-5b58-4354-b8c4-2ca698dc7a30",
   "metadata": {},
   "outputs": [],
   "source": [
    "model_name = \"bert-base-uncased\"  \n",
    "tokenizer = BertTokenizer.from_pretrained(model_name)\n",
    "model = BertModel.from_pretrained(model_name)"
   ]
  },
  {
   "cell_type": "code",
   "execution_count": 6,
   "id": "313fb46a-44d2-4323-a6df-dc98a17dce8f",
   "metadata": {},
   "outputs": [],
   "source": [
    "model=model.to(device)"
   ]
  },
  {
   "cell_type": "code",
   "execution_count": 7,
   "id": "284a4a15-1a63-400c-a0c6-101d9c29f089",
   "metadata": {},
   "outputs": [],
   "source": [
    "def get_embeddings(X, batch_size=128, max_length=512):\n",
    "    all_pred_list = []\n",
    "    n_iters = math.ceil(len(X) / batch_size)\n",
    "    for i in tqdm(range(n_iters)):\n",
    "        text_batch = X.iloc[i * batch_size : (i + 1) * batch_size].astype(str).to_list()\n",
    "        tok = tokenizer(\n",
    "            text_batch,\n",
    "            return_tensors='pt',\n",
    "            padding=True,\n",
    "            truncation=True,\n",
    "            max_length=max_length\n",
    "        )\n",
    "        with torch.no_grad():\n",
    "            outputs = model(\n",
    "                input_ids=tok['input_ids'].to(device),\n",
    "                token_type_ids=tok.get('token_type_ids', None).to(device) if 'token_type_ids' in tok else None,\n",
    "                attention_mask=tok['attention_mask'].to(device)\n",
    "            )\n",
    "        all_pred_list.extend(outputs.last_hidden_state[:, 0, :].cpu().numpy().tolist())\n",
    "    return all_pred_list\n"
   ]
  },
  {
   "cell_type": "code",
   "execution_count": 8,
   "id": "1be24fc8-0291-413b-9ff6-1ce3d5928fe2",
   "metadata": {},
   "outputs": [
    {
     "name": "stderr",
     "output_type": "stream",
     "text": [
      "100%|███████████████████████████████████████████| 97/97 [02:37<00:00,  1.62s/it]\n"
     ]
    }
   ],
   "source": [
    "X_test_bert = np.array(get_embeddings(test_data['all_text']))"
   ]
  },
  {
   "cell_type": "code",
   "execution_count": 9,
   "id": "14e43d88-1675-493b-93db-4e1efe2abf2c",
   "metadata": {},
   "outputs": [
    {
     "name": "stderr",
     "output_type": "stream",
     "text": [
      "100%|█████████████████████████████████████████| 386/386 [10:28<00:00,  1.63s/it]\n"
     ]
    }
   ],
   "source": [
    "X_train_bert = np.array(get_embeddings(train_data['all_text']))\n"
   ]
  },
  {
   "cell_type": "code",
   "execution_count": 11,
   "id": "8bd5ee6e-72ec-45f1-8830-b6e8a5b137a0",
   "metadata": {},
   "outputs": [],
   "source": [
    "X_train_emb = pd.DataFrame(X_train_bert)"
   ]
  },
  {
   "cell_type": "code",
   "execution_count": 12,
   "id": "203d1d4e",
   "metadata": {},
   "outputs": [],
   "source": [
    "X_test_emb = pd.DataFrame(X_test_bert)"
   ]
  },
  {
   "cell_type": "code",
   "execution_count": 15,
   "id": "d13a9055-4c8f-4279-bc58-d9a40d41d267",
   "metadata": {},
   "outputs": [
    {
     "data": {
      "text/plain": [
       "array([0, 0, 0, ..., 0, 0, 0])"
      ]
     },
     "execution_count": 15,
     "metadata": {},
     "output_type": "execute_result"
    }
   ],
   "source": [
    "np.array(test_data['label'])"
   ]
  },
  {
   "cell_type": "code",
   "execution_count": 16,
   "id": "65d2a82a-ae16-4ea8-aec2-b2c761592c92",
   "metadata": {},
   "outputs": [],
   "source": [
    "X_test_emb['label'] = np.array(test_data['label'])\n",
    "X_train_emb['label'] = np.array(train_data['label'])"
   ]
  },
  {
   "cell_type": "code",
   "execution_count": 32,
   "id": "9545edc1-8fa9-4913-9751-21e444ee2de6",
   "metadata": {},
   "outputs": [],
   "source": [
    "X_train = X_train_emb.drop(columns='label')\n",
    "y_train = X_train_emb['label']\n"
   ]
  },
  {
   "cell_type": "code",
   "execution_count": 17,
   "id": "d2440d4e-6819-43eb-94af-7e3c44919a37",
   "metadata": {},
   "outputs": [],
   "source": [
    "# X_train_emb.to_csv('data/train_bert_emb.csv')\n",
    "# X_test_emb.to_csv('data/test_bert_emb.csv')"
   ]
  },
  {
   "cell_type": "code",
   "execution_count": 57,
   "id": "9e58809f-14fa-42ea-832a-86d6691fd4cc",
   "metadata": {},
   "outputs": [],
   "source": [
    "model = CatBoostClassifier(\n",
    "    iterations= 1000,\n",
    "    learning_rate=0.01,\n",
    "    depth=6,\n",
    "    loss_function='Logloss', \n",
    "    verbose=100,\n",
    "    random_seed=4\n",
    ")"
   ]
  },
  {
   "cell_type": "code",
   "execution_count": 58,
   "id": "d675e28b-923a-4501-ae6c-d8688fac199b",
   "metadata": {},
   "outputs": [
    {
     "name": "stdout",
     "output_type": "stream",
     "text": [
      "0:\tlearn: 0.6868790\ttotal: 32.8ms\tremaining: 32.8s\n",
      "100:\tlearn: 0.4100198\ttotal: 3s\tremaining: 26.7s\n",
      "200:\tlearn: 0.3485089\ttotal: 5.95s\tremaining: 23.6s\n",
      "300:\tlearn: 0.3206682\ttotal: 8.89s\tremaining: 20.7s\n",
      "400:\tlearn: 0.3026592\ttotal: 11.8s\tremaining: 17.7s\n",
      "500:\tlearn: 0.2892203\ttotal: 14.8s\tremaining: 14.7s\n",
      "600:\tlearn: 0.2783044\ttotal: 17.7s\tremaining: 11.8s\n",
      "700:\tlearn: 0.2688910\ttotal: 20.7s\tremaining: 8.81s\n",
      "800:\tlearn: 0.2605508\ttotal: 23.6s\tremaining: 5.87s\n",
      "900:\tlearn: 0.2531030\ttotal: 26.6s\tremaining: 2.92s\n",
      "999:\tlearn: 0.2462852\ttotal: 29.5s\tremaining: 0us\n"
     ]
    },
    {
     "data": {
      "text/plain": [
       "<catboost.core.CatBoostClassifier at 0x74872249a840>"
      ]
     },
     "execution_count": 58,
     "metadata": {},
     "output_type": "execute_result"
    }
   ],
   "source": [
    "model.fit(X_train, y_train)\n"
   ]
  },
  {
   "cell_type": "code",
   "execution_count": 71,
   "id": "7e53a168-d200-4328-947c-e80360d20c2b",
   "metadata": {},
   "outputs": [],
   "source": [
    "model.save_model('models/catboost_model.bin')\n"
   ]
  },
  {
   "cell_type": "code",
   "execution_count": 83,
   "id": "a80ef9f8-b247-4933-aab1-3d114884738f",
   "metadata": {},
   "outputs": [],
   "source": [
    "X_test_emb['pred_bert'] =  model.predict_proba(X_test_emb.iloc[:, :-1])[:,1]"
   ]
  },
  {
   "cell_type": "code",
   "execution_count": 84,
   "id": "0788dbe1-b93e-496f-a172-74cb4d6bc99a",
   "metadata": {},
   "outputs": [],
   "source": [
    "X_test_emb[['label', 'pred_bert']].to_csv('test_with_bert.csv')"
   ]
  },
  {
   "cell_type": "code",
   "execution_count": null,
   "id": "6a043e6c-c451-4beb-ad63-19f754c78b69",
   "metadata": {},
   "outputs": [],
   "source": []
  }
 ],
 "metadata": {
  "kernelspec": {
   "display_name": "Python 3 (ipykernel)",
   "language": "python",
   "name": "python3"
  },
  "language_info": {
   "codemirror_mode": {
    "name": "ipython",
    "version": 3
   },
   "file_extension": ".py",
   "mimetype": "text/x-python",
   "name": "python",
   "nbconvert_exporter": "python",
   "pygments_lexer": "ipython3",
   "version": "3.12.3"
  }
 },
 "nbformat": 4,
 "nbformat_minor": 5
}
